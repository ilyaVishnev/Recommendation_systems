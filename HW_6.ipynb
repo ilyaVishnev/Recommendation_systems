{
 "cells": [
  {
   "cell_type": "code",
   "execution_count": null,
   "id": "b062f920-d366-49bb-89e2-5a93edbaebbf",
   "metadata": {
    "id": "b062f920-d366-49bb-89e2-5a93edbaebbf",
    "tags": []
   },
   "outputs": [],
   "source": [
    "import pandas as pd\n",
    "import numpy as np\n",
    "import matplotlib.pyplot as plt\n",
    "%matplotlib inline\n",
    "from sklearn.preprocessing import OneHotEncoder\n",
    "\n",
    "# Для работы с матрицами\n",
    "from scipy.sparse import csr_matrix\n",
    "\n",
    "# Матричная факторизация\n",
    "from implicit.als import AlternatingLeastSquares\n",
    "\n",
    "# Модель второго уровня\n",
    "from xgboost import XGBClassifier\n",
    "\n",
    "import sys\n",
    "sys.path.append('../')\n",
    "\n",
    "# Написанные нами функции\n",
    "from metrics import precision_at_k, recall_at_k\n",
    "from utils import prefilter_items\n",
    "from recommenders import MainRecommender"
   ]
  },
  {
   "cell_type": "code",
   "execution_count": null,
   "id": "c1013f35-85cc-406a-b6f9-5c714e2931a5",
   "metadata": {
    "id": "c1013f35-85cc-406a-b6f9-5c714e2931a5"
   },
   "outputs": [],
   "source": [
    "data = pd.read_csv('retail_train.csv')\n",
    "item_features = pd.read_csv('product.csv')\n",
    "user_features = pd.read_csv('hh_demographic.csv')"
   ]
  },
  {
   "cell_type": "code",
   "execution_count": null,
   "id": "e232851e-36df-4b57-8558-9af5e6069636",
   "metadata": {
    "id": "e232851e-36df-4b57-8558-9af5e6069636"
   },
   "outputs": [],
   "source": [
    "ITEM_COL = 'item_id'\n",
    "USER_COL = 'user_id'"
   ]
  },
  {
   "cell_type": "code",
   "execution_count": null,
   "id": "d4ca8e87-4ad2-481e-ab98-d5054238417d",
   "metadata": {
    "id": "d4ca8e87-4ad2-481e-ab98-d5054238417d"
   },
   "outputs": [],
   "source": [
    "item_features.columns = [col.lower() for col in item_features.columns]\n",
    "user_features.columns = [col.lower() for col in user_features.columns]\n",
    "\n",
    "item_features.rename(columns={'product_id': ITEM_COL}, inplace=True)\n",
    "user_features.rename(columns={'household_key': USER_COL }, inplace=True)"
   ]
  },
  {
   "cell_type": "code",
   "execution_count": null,
   "id": "0336d7ba-a0fd-4540-9fd4-dfc90a4085af",
   "metadata": {
    "id": "0336d7ba-a0fd-4540-9fd4-dfc90a4085af"
   },
   "outputs": [],
   "source": [
    "VAL_MATCHER_WEEKS = 6\n",
    "VAL_RANKER_WEEKS = 3"
   ]
  },
  {
   "cell_type": "code",
   "execution_count": null,
   "id": "b8c8ab98-799a-4582-9051-70833f0c9600",
   "metadata": {
    "id": "b8c8ab98-799a-4582-9051-70833f0c9600",
    "scrolled": true
   },
   "outputs": [],
   "source": [
    "data_train_matcher = data[data['week_no'] < data['week_no'].max() - (VAL_MATCHER_WEEKS + VAL_RANKER_WEEKS)]\n",
    "\n",
    "data_val_matcher = data[(data['week_no'] >= data['week_no'].max() - (VAL_MATCHER_WEEKS + VAL_RANKER_WEEKS)) &\n",
    "                      (data['week_no'] < data['week_no'].max() - (VAL_RANKER_WEEKS))]\n",
    "\n",
    "\n",
    "data_train_ranker = data_val_matcher.copy()  \n",
    "\n",
    "data_val_ranker = data[data['week_no'] >= data['week_no'].max() - VAL_RANKER_WEEKS]"
   ]
  },
  {
   "cell_type": "code",
   "execution_count": null,
   "id": "9dea6687-c850-448b-a47a-87f362e8c76c",
   "metadata": {
    "id": "9dea6687-c850-448b-a47a-87f362e8c76c",
    "outputId": "fb3f7b09-ba37-4682-e3e0-a3940502bd3b"
   },
   "outputs": [
    {
     "data": {
      "text/html": [
       "<div>\n",
       "<style scoped>\n",
       "    .dataframe tbody tr th:only-of-type {\n",
       "        vertical-align: middle;\n",
       "    }\n",
       "\n",
       "    .dataframe tbody tr th {\n",
       "        vertical-align: top;\n",
       "    }\n",
       "\n",
       "    .dataframe thead th {\n",
       "        text-align: right;\n",
       "    }\n",
       "</style>\n",
       "<table border=\"1\" class=\"dataframe\">\n",
       "  <thead>\n",
       "    <tr style=\"text-align: right;\">\n",
       "      <th></th>\n",
       "      <th>user_id</th>\n",
       "      <th>basket_id</th>\n",
       "      <th>day</th>\n",
       "      <th>item_id</th>\n",
       "      <th>quantity</th>\n",
       "      <th>sales_value</th>\n",
       "      <th>store_id</th>\n",
       "      <th>retail_disc</th>\n",
       "      <th>trans_time</th>\n",
       "      <th>week_no</th>\n",
       "      <th>coupon_disc</th>\n",
       "      <th>coupon_match_disc</th>\n",
       "    </tr>\n",
       "  </thead>\n",
       "  <tbody>\n",
       "    <tr>\n",
       "      <th>0</th>\n",
       "      <td>2375</td>\n",
       "      <td>26984851472</td>\n",
       "      <td>1</td>\n",
       "      <td>1004906</td>\n",
       "      <td>1</td>\n",
       "      <td>1.39</td>\n",
       "      <td>364</td>\n",
       "      <td>-0.6</td>\n",
       "      <td>1631</td>\n",
       "      <td>1</td>\n",
       "      <td>0.0</td>\n",
       "      <td>0.0</td>\n",
       "    </tr>\n",
       "    <tr>\n",
       "      <th>1</th>\n",
       "      <td>2375</td>\n",
       "      <td>26984851472</td>\n",
       "      <td>1</td>\n",
       "      <td>1033142</td>\n",
       "      <td>1</td>\n",
       "      <td>0.82</td>\n",
       "      <td>364</td>\n",
       "      <td>0.0</td>\n",
       "      <td>1631</td>\n",
       "      <td>1</td>\n",
       "      <td>0.0</td>\n",
       "      <td>0.0</td>\n",
       "    </tr>\n",
       "  </tbody>\n",
       "</table>\n",
       "</div>"
      ],
      "text/plain": [
       "   user_id    basket_id  day  item_id  quantity  sales_value  store_id  \\\n",
       "0     2375  26984851472    1  1004906         1         1.39       364   \n",
       "1     2375  26984851472    1  1033142         1         0.82       364   \n",
       "\n",
       "   retail_disc  trans_time  week_no  coupon_disc  coupon_match_disc  \n",
       "0         -0.6        1631        1          0.0                0.0  \n",
       "1          0.0        1631        1          0.0                0.0  "
      ]
     },
     "execution_count": 7,
     "metadata": {},
     "output_type": "execute_result"
    }
   ],
   "source": [
    "data_train_matcher.head(2)"
   ]
  },
  {
   "cell_type": "code",
   "execution_count": null,
   "id": "22bf5858-3836-4f07-892a-4f60f1ac669a",
   "metadata": {
    "id": "22bf5858-3836-4f07-892a-4f60f1ac669a",
    "outputId": "2ad9131e-3b55-4f05-c14f-d22aae50c9c5"
   },
   "outputs": [
    {
     "name": "stdout",
     "output_type": "stream",
     "text": [
      "Decreased # items from 83685 to 5001\n"
     ]
    }
   ],
   "source": [
    "n_items_before = data_train_matcher['item_id'].nunique()\n",
    "\n",
    "data_train_matcher = prefilter_items(data_train_matcher, item_features=item_features, n_popular=5000)\n",
    "\n",
    "n_items_after = data_train_matcher['item_id'].nunique()\n",
    "print('Decreased # items from {} to {}'.format(n_items_before, n_items_after))"
   ]
  },
  {
   "cell_type": "code",
   "execution_count": null,
   "id": "8b6add8c-3ff4-48a7-80c5-8f2b8d3dbd1c",
   "metadata": {
    "id": "8b6add8c-3ff4-48a7-80c5-8f2b8d3dbd1c"
   },
   "outputs": [],
   "source": [
    "common_users = data_train_matcher.user_id.values\n",
    "\n",
    "data_val_matcher = data_val_matcher[data_val_matcher.user_id.isin(common_users)]\n",
    "data_train_ranker = data_train_ranker[data_train_ranker.user_id.isin(common_users)]\n",
    "data_val_ranker = data_val_ranker[data_val_ranker.user_id.isin(common_users)]"
   ]
  },
  {
   "cell_type": "code",
   "execution_count": null,
   "id": "f65024ce-f29f-4bcd-b748-1841ba313aca",
   "metadata": {
    "id": "f65024ce-f29f-4bcd-b748-1841ba313aca"
   },
   "outputs": [],
   "source": [
    "recommender = MainRecommender(data_train_matcher)"
   ]
  },
  {
   "cell_type": "code",
   "execution_count": null,
   "id": "db48a8ea-7ae3-4ad7-ad37-6fe04901a880",
   "metadata": {
    "id": "db48a8ea-7ae3-4ad7-ad37-6fe04901a880"
   },
   "outputs": [],
   "source": [
    "ACTUAL_COL = 'actual'"
   ]
  },
  {
   "cell_type": "code",
   "execution_count": null,
   "id": "f6b8b9cb-338d-4d79-807f-4a481ef3e538",
   "metadata": {
    "id": "f6b8b9cb-338d-4d79-807f-4a481ef3e538",
    "outputId": "073a1937-c909-4b17-838f-4f742605628d",
    "scrolled": true
   },
   "outputs": [
    {
     "data": {
      "text/html": [
       "<div>\n",
       "<style scoped>\n",
       "    .dataframe tbody tr th:only-of-type {\n",
       "        vertical-align: middle;\n",
       "    }\n",
       "\n",
       "    .dataframe tbody tr th {\n",
       "        vertical-align: top;\n",
       "    }\n",
       "\n",
       "    .dataframe thead th {\n",
       "        text-align: right;\n",
       "    }\n",
       "</style>\n",
       "<table border=\"1\" class=\"dataframe\">\n",
       "  <thead>\n",
       "    <tr style=\"text-align: right;\">\n",
       "      <th></th>\n",
       "      <th>user_id</th>\n",
       "      <th>actual</th>\n",
       "    </tr>\n",
       "  </thead>\n",
       "  <tbody>\n",
       "    <tr>\n",
       "      <th>0</th>\n",
       "      <td>2070</td>\n",
       "      <td>[1019940, 834103, 918438, 878302, 949616, 9879...</td>\n",
       "    </tr>\n",
       "    <tr>\n",
       "      <th>1</th>\n",
       "      <td>2021</td>\n",
       "      <td>[840361, 856060, 869344, 896862, 951590, 10191...</td>\n",
       "    </tr>\n",
       "  </tbody>\n",
       "</table>\n",
       "</div>"
      ],
      "text/plain": [
       "   user_id                                             actual\n",
       "0     2070  [1019940, 834103, 918438, 878302, 949616, 9879...\n",
       "1     2021  [840361, 856060, 869344, 896862, 951590, 10191..."
      ]
     },
     "execution_count": 12,
     "metadata": {},
     "output_type": "execute_result"
    }
   ],
   "source": [
    "result_eval_matcher = data_val_matcher.groupby(USER_COL, sort=False)[ITEM_COL].unique().reset_index()\n",
    "result_eval_matcher.columns=[USER_COL, ACTUAL_COL]\n",
    "result_eval_matcher.head(2)"
   ]
  },
  {
   "cell_type": "code",
   "execution_count": null,
   "id": "71100b2c-0355-4ede-987e-9102a7c72d3d",
   "metadata": {
    "id": "71100b2c-0355-4ede-987e-9102a7c72d3d"
   },
   "outputs": [],
   "source": [
    "def calc_recall(df_result, top_k):\n",
    "    for col_name in df_result.columns[2:]:\n",
    "        yield col_name, df_result.apply(lambda row: recall_at_k(row[col_name], row[ACTUAL_COL], k=top_k), axis=1).mean()"
   ]
  },
  {
   "cell_type": "code",
   "execution_count": null,
   "id": "2bc5b484-39a5-4a5e-9e15-f0ec638e81dd",
   "metadata": {
    "id": "2bc5b484-39a5-4a5e-9e15-f0ec638e81dd"
   },
   "outputs": [],
   "source": [
    "def calc_precision(df_result, top_k):\n",
    "    for col_name in df_result.columns[2:]:\n",
    "        yield col_name, df_result.apply(lambda row: precision_at_k(row[col_name], row[ACTUAL_COL], k=top_k), axis=1).mean()"
   ]
  },
  {
   "cell_type": "code",
   "execution_count": null,
   "id": "3e6a99c8-514b-4e2a-a5f2-7d6c5e405cef",
   "metadata": {
    "id": "3e6a99c8-514b-4e2a-a5f2-7d6c5e405cef"
   },
   "outputs": [],
   "source": [
    "def make_recommendations(df_result, rec_name_model, N=50):\n",
    "    rec_name = rec_name_model[0]\n",
    "    rec_model = rec_name_model[1]\n",
    "    df_result[rec_name] = df_result[USER_COL].apply(lambda x: rec_model(x, N=N))"
   ]
  },
  {
   "cell_type": "code",
   "execution_count": null,
   "id": "cdb4c77b-a55d-497f-899a-177a9f9955cc",
   "metadata": {
    "id": "cdb4c77b-a55d-497f-899a-177a9f9955cc"
   },
   "outputs": [],
   "source": [
    "own_rec = ('own_recs', recommender.get_own_recommendations)\n",
    "als_rec = ('als_recs', recommender.get_als_recommendations)\n",
    "sim_user_rec = ('similar_user_recs', recommender.get_similar_users_recommendation)\n",
    "sim_item_rec = ('similar_item_recs', recommender.get_similar_items_recommendation)"
   ]
  },
  {
   "cell_type": "code",
   "execution_count": null,
   "id": "177a88aa-7581-48bf-b499-18d14835c1ef",
   "metadata": {
    "id": "177a88aa-7581-48bf-b499-18d14835c1ef"
   },
   "outputs": [],
   "source": [
    "for rec in (own_rec, als_rec, sim_user_rec, sim_item_rec):\n",
    "    make_recommendations(result_eval_matcher, rec, N=50)"
   ]
  },
  {
   "cell_type": "code",
   "execution_count": null,
   "id": "a8292e61-fd4a-4211-abba-ea042e1fe477",
   "metadata": {
    "id": "a8292e61-fd4a-4211-abba-ea042e1fe477"
   },
   "outputs": [],
   "source": [
    "make_recommendations(result_eval_matcher, ('own+top_pop', recommender.get_own_recommendations), N=25)"
   ]
  },
  {
   "cell_type": "code",
   "execution_count": null,
   "id": "bd56cc8c-3a45-4873-8361-be216837292b",
   "metadata": {
    "id": "bd56cc8c-3a45-4873-8361-be216837292b"
   },
   "outputs": [],
   "source": [
    "def fill_with_tops(column, N=5):\n",
    "    \n",
    "    tops = np.array(recommender.overall_top_purchases)\n",
    "    recs = np.array(column)\n",
    "    mask = np.isin(tops, recs, invert=True)\n",
    "    tops = tops[mask]\n",
    "    \n",
    "    return np.append(recs, tops[:N])"
   ]
  },
  {
   "cell_type": "code",
   "execution_count": null,
   "id": "b9f29589-94c8-497d-b5af-97413dbb429c",
   "metadata": {
    "id": "b9f29589-94c8-497d-b5af-97413dbb429c"
   },
   "outputs": [],
   "source": [
    "result_eval_matcher['own+top_pop'] = result_eval_matcher['own+top_pop']. \\\n",
    "        apply(lambda row: fill_with_tops(row, N=25))"
   ]
  },
  {
   "cell_type": "code",
   "execution_count": null,
   "id": "84c1c351-067a-4d3d-b4d4-cd0aee514712",
   "metadata": {
    "id": "84c1c351-067a-4d3d-b4d4-cd0aee514712",
    "outputId": "72460a7a-1935-42e1-eb4f-3b7468a92618"
   },
   "outputs": [
    {
     "data": {
      "text/plain": [
       "50"
      ]
     },
     "execution_count": 21,
     "metadata": {},
     "output_type": "execute_result"
    }
   ],
   "source": [
    "len(result_eval_matcher.iloc[0]['own+top_pop'])"
   ]
  },
  {
   "attachments": {},
   "cell_type": "markdown",
   "id": "18461864-655c-40b0-b794-76ef5bc4b2be",
   "metadata": {
    "id": "18461864-655c-40b0-b794-76ef5bc4b2be"
   },
   "source": [
    "Посмотрим на recall@50 кандидатов, полученных разными способами:"
   ]
  },
  {
   "cell_type": "code",
   "execution_count": null,
   "id": "329820ba-7df1-4129-8310-b02058f6b146",
   "metadata": {
    "id": "329820ba-7df1-4129-8310-b02058f6b146",
    "outputId": "ed042a3e-43fe-47f2-cebc-5e6456442a41"
   },
   "outputs": [
    {
     "data": {
      "text/plain": [
       "[('own_recs', 0.07934879656918649),\n",
       " ('own+top_pop', 0.0738710471311752),\n",
       " ('als_recs', 0.048092753849589144),\n",
       " ('similar_item_recs', 0.032414477233487456),\n",
       " ('similar_user_recs', 0.025494293767761935)]"
      ]
     },
     "execution_count": 22,
     "metadata": {},
     "output_type": "execute_result"
    }
   ],
   "source": [
    "sorted(calc_recall(result_eval_matcher, 50), key=lambda x: x[1], reverse=True)"
   ]
  },
  {
   "attachments": {},
   "cell_type": "markdown",
   "id": "661c5673-8dd6-4ca9-8d39-e345dcfab85a",
   "metadata": {
    "id": "661c5673-8dd6-4ca9-8d39-e345dcfab85a"
   },
   "source": [
    "Сначала измерим precision@5 имеющихся кандидатов:"
   ]
  },
  {
   "cell_type": "code",
   "execution_count": null,
   "id": "6759a674-25a6-444a-ad95-a13cae2eea7f",
   "metadata": {
    "id": "6759a674-25a6-444a-ad95-a13cae2eea7f",
    "outputId": "a948311e-8cc5-48c8-da0f-452aa06fe2b1"
   },
   "outputs": [
    {
     "data": {
      "text/plain": [
       "[('own_recs', 0.2242565055762082),\n",
       " ('own+top_pop', 0.2242565055762082),\n",
       " ('als_recs', 0.09433085501858736),\n",
       " ('similar_item_recs', 0.06282527881040893),\n",
       " ('similar_user_recs', 0.02732342007434944)]"
      ]
     },
     "execution_count": 24,
     "metadata": {},
     "output_type": "execute_result"
    }
   ],
   "source": [
    "sorted(calc_precision(result_eval_matcher, 5), key=lambda x: x[1], reverse=True)"
   ]
  },
  {
   "cell_type": "code",
   "execution_count": null,
   "id": "15a2c036-382d-456e-abf0-7dc4fdfa154e",
   "metadata": {
    "id": "15a2c036-382d-456e-abf0-7dc4fdfa154e"
   },
   "outputs": [],
   "source": [
    "df_match_candidates = pd.DataFrame(data_train_ranker[USER_COL].unique())\n",
    "df_match_candidates.columns = [USER_COL]"
   ]
  },
  {
   "cell_type": "code",
   "execution_count": null,
   "id": "235f514f-2bbe-4728-aef5-633997951fe0",
   "metadata": {
    "id": "235f514f-2bbe-4728-aef5-633997951fe0"
   },
   "outputs": [],
   "source": [
    "df_match_candidates['candidates'] = df_match_candidates[USER_COL].apply(lambda x: recommender.get_als_recommendations(x, N=50))"
   ]
  },
  {
   "cell_type": "code",
   "execution_count": null,
   "id": "ef7381c0-4f10-4c33-aa69-8d9ab65e51dd",
   "metadata": {
    "id": "ef7381c0-4f10-4c33-aa69-8d9ab65e51dd",
    "outputId": "d3c8da5f-9140-41ec-b68d-c8d1c9c8a164"
   },
   "outputs": [
    {
     "data": {
      "text/html": [
       "<div>\n",
       "<style scoped>\n",
       "    .dataframe tbody tr th:only-of-type {\n",
       "        vertical-align: middle;\n",
       "    }\n",
       "\n",
       "    .dataframe tbody tr th {\n",
       "        vertical-align: top;\n",
       "    }\n",
       "\n",
       "    .dataframe thead th {\n",
       "        text-align: right;\n",
       "    }\n",
       "</style>\n",
       "<table border=\"1\" class=\"dataframe\">\n",
       "  <thead>\n",
       "    <tr style=\"text-align: right;\">\n",
       "      <th></th>\n",
       "      <th>user_id</th>\n",
       "      <th>candidates</th>\n",
       "    </tr>\n",
       "  </thead>\n",
       "  <tbody>\n",
       "    <tr>\n",
       "      <th>0</th>\n",
       "      <td>2070</td>\n",
       "      <td>[1107553, 1042942, 9526410, 879755, 9527290, 8...</td>\n",
       "    </tr>\n",
       "    <tr>\n",
       "      <th>1</th>\n",
       "      <td>2021</td>\n",
       "      <td>[981521, 12731544, 1013928, 1009333, 1019142, ...</td>\n",
       "    </tr>\n",
       "    <tr>\n",
       "      <th>2</th>\n",
       "      <td>1753</td>\n",
       "      <td>[1110572, 926422, 991951, 861445, 879755, 1037...</td>\n",
       "    </tr>\n",
       "  </tbody>\n",
       "</table>\n",
       "</div>"
      ],
      "text/plain": [
       "   user_id                                         candidates\n",
       "0     2070  [1107553, 1042942, 9526410, 879755, 9527290, 8...\n",
       "1     2021  [981521, 12731544, 1013928, 1009333, 1019142, ...\n",
       "2     1753  [1110572, 926422, 991951, 861445, 879755, 1037..."
      ]
     },
     "execution_count": 27,
     "metadata": {},
     "output_type": "execute_result"
    }
   ],
   "source": [
    "df_match_candidates.head(3)"
   ]
  },
  {
   "cell_type": "code",
   "execution_count": null,
   "id": "53b39f89-deeb-4986-925c-bde6c60cea2a",
   "metadata": {
    "id": "53b39f89-deeb-4986-925c-bde6c60cea2a"
   },
   "outputs": [],
   "source": [
    "df_items = df_match_candidates.apply(lambda x: pd.Series(x['candidates']), axis=1).stack().reset_index(level=1, drop=True)\n",
    "df_items.name = 'item_id'"
   ]
  },
  {
   "cell_type": "code",
   "execution_count": null,
   "id": "69d53d86-de29-44af-999d-1204a7e52ae8",
   "metadata": {
    "id": "69d53d86-de29-44af-999d-1204a7e52ae8"
   },
   "outputs": [],
   "source": [
    "df_match_candidates = df_match_candidates.drop('candidates', axis=1).join(df_items)"
   ]
  },
  {
   "cell_type": "code",
   "execution_count": null,
   "id": "da66390b-34f3-49aa-955b-3acb77ff8177",
   "metadata": {
    "id": "da66390b-34f3-49aa-955b-3acb77ff8177",
    "outputId": "cee5f9a6-1099-470c-8689-4dcbedb059de"
   },
   "outputs": [
    {
     "data": {
      "text/html": [
       "<div>\n",
       "<style scoped>\n",
       "    .dataframe tbody tr th:only-of-type {\n",
       "        vertical-align: middle;\n",
       "    }\n",
       "\n",
       "    .dataframe tbody tr th {\n",
       "        vertical-align: top;\n",
       "    }\n",
       "\n",
       "    .dataframe thead th {\n",
       "        text-align: right;\n",
       "    }\n",
       "</style>\n",
       "<table border=\"1\" class=\"dataframe\">\n",
       "  <thead>\n",
       "    <tr style=\"text-align: right;\">\n",
       "      <th></th>\n",
       "      <th>user_id</th>\n",
       "      <th>item_id</th>\n",
       "    </tr>\n",
       "  </thead>\n",
       "  <tbody>\n",
       "    <tr>\n",
       "      <th>0</th>\n",
       "      <td>2070</td>\n",
       "      <td>1107553</td>\n",
       "    </tr>\n",
       "    <tr>\n",
       "      <th>0</th>\n",
       "      <td>2070</td>\n",
       "      <td>1042942</td>\n",
       "    </tr>\n",
       "    <tr>\n",
       "      <th>0</th>\n",
       "      <td>2070</td>\n",
       "      <td>9526410</td>\n",
       "    </tr>\n",
       "    <tr>\n",
       "      <th>0</th>\n",
       "      <td>2070</td>\n",
       "      <td>879755</td>\n",
       "    </tr>\n",
       "    <tr>\n",
       "      <th>0</th>\n",
       "      <td>2070</td>\n",
       "      <td>9527290</td>\n",
       "    </tr>\n",
       "  </tbody>\n",
       "</table>\n",
       "</div>"
      ],
      "text/plain": [
       "   user_id  item_id\n",
       "0     2070  1107553\n",
       "0     2070  1042942\n",
       "0     2070  9526410\n",
       "0     2070   879755\n",
       "0     2070  9527290"
      ]
     },
     "execution_count": 30,
     "metadata": {},
     "output_type": "execute_result"
    }
   ],
   "source": [
    "df_match_candidates.head()"
   ]
  },
  {
   "cell_type": "code",
   "execution_count": null,
   "id": "02f3bbb4-6544-40d9-94c4-0d47caba4535",
   "metadata": {
    "id": "02f3bbb4-6544-40d9-94c4-0d47caba4535"
   },
   "outputs": [],
   "source": [
    "df_ranker_train = data_train_ranker[[USER_COL, ITEM_COL]].copy()\n",
    "df_ranker_train['target'] = 1  # тут только покупки "
   ]
  },
  {
   "cell_type": "code",
   "execution_count": null,
   "id": "d1955438-1eb7-49a7-8c5f-7342cab27070",
   "metadata": {
    "id": "d1955438-1eb7-49a7-8c5f-7342cab27070",
    "outputId": "6df7e30b-5000-4602-f65e-c6f1212af43b"
   },
   "outputs": [
    {
     "data": {
      "text/html": [
       "<div>\n",
       "<style scoped>\n",
       "    .dataframe tbody tr th:only-of-type {\n",
       "        vertical-align: middle;\n",
       "    }\n",
       "\n",
       "    .dataframe tbody tr th {\n",
       "        vertical-align: top;\n",
       "    }\n",
       "\n",
       "    .dataframe thead th {\n",
       "        text-align: right;\n",
       "    }\n",
       "</style>\n",
       "<table border=\"1\" class=\"dataframe\">\n",
       "  <thead>\n",
       "    <tr style=\"text-align: right;\">\n",
       "      <th></th>\n",
       "      <th>user_id</th>\n",
       "      <th>item_id</th>\n",
       "      <th>target</th>\n",
       "    </tr>\n",
       "  </thead>\n",
       "  <tbody>\n",
       "    <tr>\n",
       "      <th>2104867</th>\n",
       "      <td>2070</td>\n",
       "      <td>1019940</td>\n",
       "      <td>1</td>\n",
       "    </tr>\n",
       "    <tr>\n",
       "      <th>2107468</th>\n",
       "      <td>2021</td>\n",
       "      <td>840361</td>\n",
       "      <td>1</td>\n",
       "    </tr>\n",
       "    <tr>\n",
       "      <th>2107469</th>\n",
       "      <td>2021</td>\n",
       "      <td>856060</td>\n",
       "      <td>1</td>\n",
       "    </tr>\n",
       "    <tr>\n",
       "      <th>2107470</th>\n",
       "      <td>2021</td>\n",
       "      <td>869344</td>\n",
       "      <td>1</td>\n",
       "    </tr>\n",
       "    <tr>\n",
       "      <th>2107471</th>\n",
       "      <td>2021</td>\n",
       "      <td>896862</td>\n",
       "      <td>1</td>\n",
       "    </tr>\n",
       "    <tr>\n",
       "      <th>...</th>\n",
       "      <td>...</td>\n",
       "      <td>...</td>\n",
       "      <td>...</td>\n",
       "    </tr>\n",
       "    <tr>\n",
       "      <th>2282320</th>\n",
       "      <td>222</td>\n",
       "      <td>1120741</td>\n",
       "      <td>1</td>\n",
       "    </tr>\n",
       "    <tr>\n",
       "      <th>2282321</th>\n",
       "      <td>462</td>\n",
       "      <td>993339</td>\n",
       "      <td>1</td>\n",
       "    </tr>\n",
       "    <tr>\n",
       "      <th>2282322</th>\n",
       "      <td>462</td>\n",
       "      <td>995242</td>\n",
       "      <td>1</td>\n",
       "    </tr>\n",
       "    <tr>\n",
       "      <th>2282323</th>\n",
       "      <td>462</td>\n",
       "      <td>10180324</td>\n",
       "      <td>1</td>\n",
       "    </tr>\n",
       "    <tr>\n",
       "      <th>2282324</th>\n",
       "      <td>462</td>\n",
       "      <td>12731714</td>\n",
       "      <td>1</td>\n",
       "    </tr>\n",
       "  </tbody>\n",
       "</table>\n",
       "<p>169686 rows × 3 columns</p>\n",
       "</div>"
      ],
      "text/plain": [
       "         user_id   item_id  target\n",
       "2104867     2070   1019940       1\n",
       "2107468     2021    840361       1\n",
       "2107469     2021    856060       1\n",
       "2107470     2021    869344       1\n",
       "2107471     2021    896862       1\n",
       "...          ...       ...     ...\n",
       "2282320      222   1120741       1\n",
       "2282321      462    993339       1\n",
       "2282322      462    995242       1\n",
       "2282323      462  10180324       1\n",
       "2282324      462  12731714       1\n",
       "\n",
       "[169686 rows x 3 columns]"
      ]
     },
     "execution_count": 32,
     "metadata": {},
     "output_type": "execute_result"
    }
   ],
   "source": [
    "df_ranker_train"
   ]
  },
  {
   "cell_type": "code",
   "execution_count": null,
   "id": "f46f7c51-a299-4c05-a814-278ce231425e",
   "metadata": {
    "id": "f46f7c51-a299-4c05-a814-278ce231425e",
    "scrolled": true
   },
   "outputs": [],
   "source": [
    "df_ranker_train = df_match_candidates.merge(df_ranker_train, on=[USER_COL, ITEM_COL], how='left')\n",
    "\n",
    "\n",
    "df_ranker_train = df_ranker_train.drop_duplicates(subset=[USER_COL, ITEM_COL])\n",
    "\n",
    "df_ranker_train['target'].fillna(0, inplace= True)"
   ]
  },
  {
   "cell_type": "code",
   "execution_count": null,
   "id": "81ba6fd8-50cc-4589-9e06-f49c6266ef6e",
   "metadata": {
    "id": "81ba6fd8-50cc-4589-9e06-f49c6266ef6e",
    "outputId": "47f3de52-5d55-4a53-b6d1-cdae6d6aedef"
   },
   "outputs": [
    {
     "data": {
      "text/plain": [
       "0.05697955390334573"
      ]
     },
     "execution_count": 36,
     "metadata": {},
     "output_type": "execute_result"
    }
   ],
   "source": [
    "df_ranker_train['target'].mean()"
   ]
  },
  {
   "cell_type": "code",
   "execution_count": null,
   "id": "c24fdbc3-71b3-46e8-b414-3613e6ceb6d5",
   "metadata": {
    "id": "c24fdbc3-71b3-46e8-b414-3613e6ceb6d5",
    "outputId": "32c9923f-20d9-4c5d-846d-3e0920dd7da4"
   },
   "outputs": [
    {
     "data": {
      "text/html": [
       "<div>\n",
       "<style scoped>\n",
       "    .dataframe tbody tr th:only-of-type {\n",
       "        vertical-align: middle;\n",
       "    }\n",
       "\n",
       "    .dataframe tbody tr th {\n",
       "        vertical-align: top;\n",
       "    }\n",
       "\n",
       "    .dataframe thead th {\n",
       "        text-align: right;\n",
       "    }\n",
       "</style>\n",
       "<table border=\"1\" class=\"dataframe\">\n",
       "  <thead>\n",
       "    <tr style=\"text-align: right;\">\n",
       "      <th></th>\n",
       "      <th>user_id</th>\n",
       "      <th>item_id</th>\n",
       "      <th>target</th>\n",
       "      <th>manufacturer</th>\n",
       "      <th>department</th>\n",
       "      <th>brand</th>\n",
       "      <th>commodity_desc</th>\n",
       "      <th>sub_commodity_desc</th>\n",
       "      <th>curr_size_of_product</th>\n",
       "      <th>age_desc</th>\n",
       "      <th>marital_status_code</th>\n",
       "      <th>income_desc</th>\n",
       "      <th>homeowner_desc</th>\n",
       "      <th>hh_comp_desc</th>\n",
       "      <th>household_size_desc</th>\n",
       "      <th>kid_category_desc</th>\n",
       "    </tr>\n",
       "  </thead>\n",
       "  <tbody>\n",
       "    <tr>\n",
       "      <th>0</th>\n",
       "      <td>2070</td>\n",
       "      <td>1107553</td>\n",
       "      <td>0.0</td>\n",
       "      <td>103</td>\n",
       "      <td>GROCERY</td>\n",
       "      <td>National</td>\n",
       "      <td>SOFT DRINKS</td>\n",
       "      <td>SFT DRNK SNGL SRV BTL CARB (EX</td>\n",
       "      <td>20 OZ</td>\n",
       "      <td>45-54</td>\n",
       "      <td>U</td>\n",
       "      <td>50-74K</td>\n",
       "      <td>Unknown</td>\n",
       "      <td>Unknown</td>\n",
       "      <td>1</td>\n",
       "      <td>None/Unknown</td>\n",
       "    </tr>\n",
       "    <tr>\n",
       "      <th>1</th>\n",
       "      <td>2070</td>\n",
       "      <td>1042942</td>\n",
       "      <td>0.0</td>\n",
       "      <td>69</td>\n",
       "      <td>GROCERY</td>\n",
       "      <td>Private</td>\n",
       "      <td>ICE CREAM/MILK/SHERBTS</td>\n",
       "      <td>PAILS</td>\n",
       "      <td>4 QT</td>\n",
       "      <td>45-54</td>\n",
       "      <td>U</td>\n",
       "      <td>50-74K</td>\n",
       "      <td>Unknown</td>\n",
       "      <td>Unknown</td>\n",
       "      <td>1</td>\n",
       "      <td>None/Unknown</td>\n",
       "    </tr>\n",
       "  </tbody>\n",
       "</table>\n",
       "</div>"
      ],
      "text/plain": [
       "   user_id  item_id  target  manufacturer department     brand  \\\n",
       "0     2070  1107553     0.0           103    GROCERY  National   \n",
       "1     2070  1042942     0.0            69    GROCERY   Private   \n",
       "\n",
       "           commodity_desc              sub_commodity_desc  \\\n",
       "0             SOFT DRINKS  SFT DRNK SNGL SRV BTL CARB (EX   \n",
       "1  ICE CREAM/MILK/SHERBTS                           PAILS   \n",
       "\n",
       "  curr_size_of_product age_desc marital_status_code income_desc  \\\n",
       "0                20 OZ    45-54                   U      50-74K   \n",
       "1                 4 QT    45-54                   U      50-74K   \n",
       "\n",
       "  homeowner_desc hh_comp_desc household_size_desc kid_category_desc  \n",
       "0        Unknown      Unknown                   1      None/Unknown  \n",
       "1        Unknown      Unknown                   1      None/Unknown  "
      ]
     },
     "execution_count": 39,
     "metadata": {},
     "output_type": "execute_result"
    }
   ],
   "source": [
    "df_ranker_train = df_ranker_train.merge(item_features, on='item_id', how='left')\n",
    "df_ranker_train = df_ranker_train.merge(user_features, on='user_id', how='left')\n",
    "\n",
    "df_ranker_train.head(2)"
   ]
  },
  {
   "cell_type": "code",
   "execution_count": null,
   "id": "11da9cae-8965-4ab8-b84f-1e6f2b988454",
   "metadata": {
    "id": "11da9cae-8965-4ab8-b84f-1e6f2b988454"
   },
   "outputs": [],
   "source": [
    "df_ranker_train = df_ranker_train.merge(data_train_matcher.groupby(USER_COL, sort=False)['sales_value']. \\\n",
    "                                    mean().reset_index(), how='left', on=USER_COL)\n",
    "df_ranker_train.rename(columns={'sales_value': 'avg_bill'}, inplace=True)"
   ]
  },
  {
   "cell_type": "code",
   "execution_count": null,
   "id": "2a94928e-c539-478f-95dd-2fde6435cc26",
   "metadata": {
    "id": "2a94928e-c539-478f-95dd-2fde6435cc26"
   },
   "outputs": [],
   "source": [
    "data_train_matcher = data_train_matcher.merge(item_features[[ITEM_COL, 'department']], how='left', on=ITEM_COL)\n",
    "df_ranker_train = df_ranker_train.merge(data_train_matcher.groupby([USER_COL, 'department'], sort=False)['sales_value'] \\\n",
    "                                        .mean().reset_index(), how='left', on=[USER_COL, 'department']). \\\n",
    "                                        rename(columns={'sales_value': 'avg_cat_spendings'})"
   ]
  },
  {
   "cell_type": "code",
   "execution_count": null,
   "id": "201653f1-ec2c-4c15-a682-729f3922bbd5",
   "metadata": {
    "id": "201653f1-ec2c-4c15-a682-729f3922bbd5",
    "outputId": "a214918d-e0e2-4cfd-8e9d-a2bc913aa528"
   },
   "outputs": [
    {
     "data": {
      "text/html": [
       "<div>\n",
       "<style scoped>\n",
       "    .dataframe tbody tr th:only-of-type {\n",
       "        vertical-align: middle;\n",
       "    }\n",
       "\n",
       "    .dataframe tbody tr th {\n",
       "        vertical-align: top;\n",
       "    }\n",
       "\n",
       "    .dataframe thead th {\n",
       "        text-align: right;\n",
       "    }\n",
       "</style>\n",
       "<table border=\"1\" class=\"dataframe\">\n",
       "  <thead>\n",
       "    <tr style=\"text-align: right;\">\n",
       "      <th></th>\n",
       "      <th>user_id</th>\n",
       "      <th>item_id</th>\n",
       "      <th>target</th>\n",
       "      <th>manufacturer</th>\n",
       "      <th>department</th>\n",
       "      <th>brand</th>\n",
       "      <th>commodity_desc</th>\n",
       "      <th>sub_commodity_desc</th>\n",
       "      <th>curr_size_of_product</th>\n",
       "      <th>age_desc</th>\n",
       "      <th>marital_status_code</th>\n",
       "      <th>income_desc</th>\n",
       "      <th>homeowner_desc</th>\n",
       "      <th>hh_comp_desc</th>\n",
       "      <th>household_size_desc</th>\n",
       "      <th>kid_category_desc</th>\n",
       "      <th>avg_bill</th>\n",
       "      <th>avg_cat_spendings</th>\n",
       "    </tr>\n",
       "  </thead>\n",
       "  <tbody>\n",
       "    <tr>\n",
       "      <th>0</th>\n",
       "      <td>2070</td>\n",
       "      <td>1107553</td>\n",
       "      <td>0.0</td>\n",
       "      <td>103</td>\n",
       "      <td>GROCERY</td>\n",
       "      <td>National</td>\n",
       "      <td>SOFT DRINKS</td>\n",
       "      <td>SFT DRNK SNGL SRV BTL CARB (EX</td>\n",
       "      <td>20 OZ</td>\n",
       "      <td>45-54</td>\n",
       "      <td>U</td>\n",
       "      <td>50-74K</td>\n",
       "      <td>Unknown</td>\n",
       "      <td>Unknown</td>\n",
       "      <td>1</td>\n",
       "      <td>None/Unknown</td>\n",
       "      <td>3.562354</td>\n",
       "      <td>2.523977</td>\n",
       "    </tr>\n",
       "    <tr>\n",
       "      <th>1</th>\n",
       "      <td>2070</td>\n",
       "      <td>1042942</td>\n",
       "      <td>0.0</td>\n",
       "      <td>69</td>\n",
       "      <td>GROCERY</td>\n",
       "      <td>Private</td>\n",
       "      <td>ICE CREAM/MILK/SHERBTS</td>\n",
       "      <td>PAILS</td>\n",
       "      <td>4 QT</td>\n",
       "      <td>45-54</td>\n",
       "      <td>U</td>\n",
       "      <td>50-74K</td>\n",
       "      <td>Unknown</td>\n",
       "      <td>Unknown</td>\n",
       "      <td>1</td>\n",
       "      <td>None/Unknown</td>\n",
       "      <td>3.562354</td>\n",
       "      <td>2.523977</td>\n",
       "    </tr>\n",
       "    <tr>\n",
       "      <th>2</th>\n",
       "      <td>2070</td>\n",
       "      <td>9526410</td>\n",
       "      <td>0.0</td>\n",
       "      <td>544</td>\n",
       "      <td>GROCERY</td>\n",
       "      <td>National</td>\n",
       "      <td>BAG SNACKS</td>\n",
       "      <td>POTATO CHIPS</td>\n",
       "      <td>11.5 OZ</td>\n",
       "      <td>45-54</td>\n",
       "      <td>U</td>\n",
       "      <td>50-74K</td>\n",
       "      <td>Unknown</td>\n",
       "      <td>Unknown</td>\n",
       "      <td>1</td>\n",
       "      <td>None/Unknown</td>\n",
       "      <td>3.562354</td>\n",
       "      <td>2.523977</td>\n",
       "    </tr>\n",
       "  </tbody>\n",
       "</table>\n",
       "</div>"
      ],
      "text/plain": [
       "   user_id  item_id  target  manufacturer department     brand  \\\n",
       "0     2070  1107553     0.0           103    GROCERY  National   \n",
       "1     2070  1042942     0.0            69    GROCERY   Private   \n",
       "2     2070  9526410     0.0           544    GROCERY  National   \n",
       "\n",
       "           commodity_desc              sub_commodity_desc  \\\n",
       "0             SOFT DRINKS  SFT DRNK SNGL SRV BTL CARB (EX   \n",
       "1  ICE CREAM/MILK/SHERBTS                           PAILS   \n",
       "2              BAG SNACKS                    POTATO CHIPS   \n",
       "\n",
       "  curr_size_of_product age_desc marital_status_code income_desc  \\\n",
       "0                20 OZ    45-54                   U      50-74K   \n",
       "1                 4 QT    45-54                   U      50-74K   \n",
       "2              11.5 OZ    45-54                   U      50-74K   \n",
       "\n",
       "  homeowner_desc hh_comp_desc household_size_desc kid_category_desc  avg_bill  \\\n",
       "0        Unknown      Unknown                   1      None/Unknown  3.562354   \n",
       "1        Unknown      Unknown                   1      None/Unknown  3.562354   \n",
       "2        Unknown      Unknown                   1      None/Unknown  3.562354   \n",
       "\n",
       "   avg_cat_spendings  \n",
       "0           2.523977  \n",
       "1           2.523977  \n",
       "2           2.523977  "
      ]
     },
     "execution_count": 42,
     "metadata": {},
     "output_type": "execute_result"
    }
   ],
   "source": [
    "df_ranker_train.head(3)"
   ]
  },
  {
   "cell_type": "code",
   "execution_count": null,
   "id": "f421fc28-6404-4070-b2b0-8a60e58d851a",
   "metadata": {
    "id": "f421fc28-6404-4070-b2b0-8a60e58d851a"
   },
   "outputs": [],
   "source": [
    "df_ranker_train = df_ranker_train.merge((data_train_matcher.groupby(ITEM_COL, sort=False)['quantity'] \\\n",
    "                                         .count() / data_train_matcher['week_no'].nunique()).reset_index(), how='left', on=ITEM_COL)\n",
    "\n",
    "df_ranker_train.rename(columns={'quantity': 'avg_week_purchases'}, inplace=True)"
   ]
  },
  {
   "cell_type": "code",
   "execution_count": null,
   "id": "dc981bf5-80e1-45b0-b443-d73673b25cb3",
   "metadata": {
    "id": "dc981bf5-80e1-45b0-b443-d73673b25cb3"
   },
   "outputs": [],
   "source": [
    "df_ranker_train = df_ranker_train.merge((data_train_matcher.groupby('department', sort=False)['quantity'] \\\n",
    "                                         .count() / data_train_matcher['week_no'].nunique()).reset_index(), \\\n",
    "                                        how='left', on='department').rename(columns={'quantity': 'avg_week_purchases_cat'})"
   ]
  },
  {
   "cell_type": "code",
   "execution_count": null,
   "id": "6ae62136-a1e1-4f32-85bd-fed3347569b3",
   "metadata": {
    "id": "6ae62136-a1e1-4f32-85bd-fed3347569b3",
    "outputId": "fd478516-e174-4819-f751-0d34ef11d4cf"
   },
   "outputs": [
    {
     "data": {
      "text/html": [
       "<div>\n",
       "<style scoped>\n",
       "    .dataframe tbody tr th:only-of-type {\n",
       "        vertical-align: middle;\n",
       "    }\n",
       "\n",
       "    .dataframe tbody tr th {\n",
       "        vertical-align: top;\n",
       "    }\n",
       "\n",
       "    .dataframe thead th {\n",
       "        text-align: right;\n",
       "    }\n",
       "</style>\n",
       "<table border=\"1\" class=\"dataframe\">\n",
       "  <thead>\n",
       "    <tr style=\"text-align: right;\">\n",
       "      <th></th>\n",
       "      <th>user_id</th>\n",
       "      <th>item_id</th>\n",
       "      <th>target</th>\n",
       "      <th>manufacturer</th>\n",
       "      <th>department</th>\n",
       "      <th>brand</th>\n",
       "      <th>commodity_desc</th>\n",
       "      <th>sub_commodity_desc</th>\n",
       "      <th>curr_size_of_product</th>\n",
       "      <th>age_desc</th>\n",
       "      <th>marital_status_code</th>\n",
       "      <th>income_desc</th>\n",
       "      <th>homeowner_desc</th>\n",
       "      <th>hh_comp_desc</th>\n",
       "      <th>household_size_desc</th>\n",
       "      <th>kid_category_desc</th>\n",
       "      <th>avg_bill</th>\n",
       "      <th>avg_cat_spendings</th>\n",
       "      <th>avg_week_purchases</th>\n",
       "      <th>avg_week_purchases_cat</th>\n",
       "    </tr>\n",
       "  </thead>\n",
       "  <tbody>\n",
       "    <tr>\n",
       "      <th>0</th>\n",
       "      <td>2070</td>\n",
       "      <td>1107553</td>\n",
       "      <td>0.0</td>\n",
       "      <td>103</td>\n",
       "      <td>GROCERY</td>\n",
       "      <td>National</td>\n",
       "      <td>SOFT DRINKS</td>\n",
       "      <td>SFT DRNK SNGL SRV BTL CARB (EX</td>\n",
       "      <td>20 OZ</td>\n",
       "      <td>45-54</td>\n",
       "      <td>U</td>\n",
       "      <td>50-74K</td>\n",
       "      <td>Unknown</td>\n",
       "      <td>Unknown</td>\n",
       "      <td>1</td>\n",
       "      <td>None/Unknown</td>\n",
       "      <td>3.562354</td>\n",
       "      <td>2.523977</td>\n",
       "      <td>9.035294</td>\n",
       "      <td>7342.223529</td>\n",
       "    </tr>\n",
       "    <tr>\n",
       "      <th>1</th>\n",
       "      <td>2070</td>\n",
       "      <td>1042942</td>\n",
       "      <td>0.0</td>\n",
       "      <td>69</td>\n",
       "      <td>GROCERY</td>\n",
       "      <td>Private</td>\n",
       "      <td>ICE CREAM/MILK/SHERBTS</td>\n",
       "      <td>PAILS</td>\n",
       "      <td>4 QT</td>\n",
       "      <td>45-54</td>\n",
       "      <td>U</td>\n",
       "      <td>50-74K</td>\n",
       "      <td>Unknown</td>\n",
       "      <td>Unknown</td>\n",
       "      <td>1</td>\n",
       "      <td>None/Unknown</td>\n",
       "      <td>3.562354</td>\n",
       "      <td>2.523977</td>\n",
       "      <td>3.282353</td>\n",
       "      <td>7342.223529</td>\n",
       "    </tr>\n",
       "    <tr>\n",
       "      <th>2</th>\n",
       "      <td>2070</td>\n",
       "      <td>9526410</td>\n",
       "      <td>0.0</td>\n",
       "      <td>544</td>\n",
       "      <td>GROCERY</td>\n",
       "      <td>National</td>\n",
       "      <td>BAG SNACKS</td>\n",
       "      <td>POTATO CHIPS</td>\n",
       "      <td>11.5 OZ</td>\n",
       "      <td>45-54</td>\n",
       "      <td>U</td>\n",
       "      <td>50-74K</td>\n",
       "      <td>Unknown</td>\n",
       "      <td>Unknown</td>\n",
       "      <td>1</td>\n",
       "      <td>None/Unknown</td>\n",
       "      <td>3.562354</td>\n",
       "      <td>2.523977</td>\n",
       "      <td>20.870588</td>\n",
       "      <td>7342.223529</td>\n",
       "    </tr>\n",
       "  </tbody>\n",
       "</table>\n",
       "</div>"
      ],
      "text/plain": [
       "   user_id  item_id  target  manufacturer department     brand  \\\n",
       "0     2070  1107553     0.0           103    GROCERY  National   \n",
       "1     2070  1042942     0.0            69    GROCERY   Private   \n",
       "2     2070  9526410     0.0           544    GROCERY  National   \n",
       "\n",
       "           commodity_desc              sub_commodity_desc  \\\n",
       "0             SOFT DRINKS  SFT DRNK SNGL SRV BTL CARB (EX   \n",
       "1  ICE CREAM/MILK/SHERBTS                           PAILS   \n",
       "2              BAG SNACKS                    POTATO CHIPS   \n",
       "\n",
       "  curr_size_of_product age_desc marital_status_code income_desc  \\\n",
       "0                20 OZ    45-54                   U      50-74K   \n",
       "1                 4 QT    45-54                   U      50-74K   \n",
       "2              11.5 OZ    45-54                   U      50-74K   \n",
       "\n",
       "  homeowner_desc hh_comp_desc household_size_desc kid_category_desc  avg_bill  \\\n",
       "0        Unknown      Unknown                   1      None/Unknown  3.562354   \n",
       "1        Unknown      Unknown                   1      None/Unknown  3.562354   \n",
       "2        Unknown      Unknown                   1      None/Unknown  3.562354   \n",
       "\n",
       "   avg_cat_spendings  avg_week_purchases  avg_week_purchases_cat  \n",
       "0           2.523977            9.035294             7342.223529  \n",
       "1           2.523977            3.282353             7342.223529  \n",
       "2           2.523977           20.870588             7342.223529  "
      ]
     },
     "execution_count": 45,
     "metadata": {},
     "output_type": "execute_result"
    }
   ],
   "source": [
    "df_ranker_train.head(3)"
   ]
  },
  {
   "cell_type": "code",
   "execution_count": null,
   "id": "5ecfcd3c-79d4-4d17-bcd1-ef3ae0d941b3",
   "metadata": {
    "id": "5ecfcd3c-79d4-4d17-bcd1-ef3ae0d941b3"
   },
   "outputs": [],
   "source": [
    "\n",
    "df_ranker_train = df_ranker_train.merge(data_train_matcher.groupby('department', sort=False)['sales_value'] \\\n",
    "                                         .mean().reset_index(), how='left', on='department') \\\n",
    "                                         .rename(columns={'sales_value': 'avg_cat_spendings_items'})"
   ]
  },
  {
   "cell_type": "code",
   "execution_count": null,
   "id": "8e647d9e-8aa0-4257-b9fe-d0dc2bbab584",
   "metadata": {
    "id": "8e647d9e-8aa0-4257-b9fe-d0dc2bbab584"
   },
   "outputs": [],
   "source": [
    "\n",
    "df_ranker_train = df_ranker_train.merge((data_train_matcher.groupby([USER_COL, 'department'], sort=False)['quantity'] \\\n",
    "                                         .count() / data_train_matcher['week_no'].nunique()).reset_index(), how='left', \\\n",
    "                                        on=[USER_COL, 'department']).rename(columns={'quantity': 'user_week_cat_purchase'})"
   ]
  },
  {
   "cell_type": "code",
   "execution_count": null,
   "id": "84c02c06-23a7-478f-abe3-2d9ce0403764",
   "metadata": {
    "id": "84c02c06-23a7-478f-abe3-2d9ce0403764",
    "outputId": "925fd5c3-baf7-4fba-a30d-215b7d306d01"
   },
   "outputs": [
    {
     "data": {
      "text/html": [
       "<div>\n",
       "<style scoped>\n",
       "    .dataframe tbody tr th:only-of-type {\n",
       "        vertical-align: middle;\n",
       "    }\n",
       "\n",
       "    .dataframe tbody tr th {\n",
       "        vertical-align: top;\n",
       "    }\n",
       "\n",
       "    .dataframe thead th {\n",
       "        text-align: right;\n",
       "    }\n",
       "</style>\n",
       "<table border=\"1\" class=\"dataframe\">\n",
       "  <thead>\n",
       "    <tr style=\"text-align: right;\">\n",
       "      <th></th>\n",
       "      <th>user_id</th>\n",
       "      <th>item_id</th>\n",
       "      <th>target</th>\n",
       "      <th>manufacturer</th>\n",
       "      <th>department</th>\n",
       "      <th>brand</th>\n",
       "      <th>commodity_desc</th>\n",
       "      <th>sub_commodity_desc</th>\n",
       "      <th>curr_size_of_product</th>\n",
       "      <th>age_desc</th>\n",
       "      <th>...</th>\n",
       "      <th>homeowner_desc</th>\n",
       "      <th>hh_comp_desc</th>\n",
       "      <th>household_size_desc</th>\n",
       "      <th>kid_category_desc</th>\n",
       "      <th>avg_bill</th>\n",
       "      <th>avg_cat_spendings</th>\n",
       "      <th>avg_week_purchases</th>\n",
       "      <th>avg_week_purchases_cat</th>\n",
       "      <th>avg_cat_spendings_items</th>\n",
       "      <th>user_week_cat_purchase</th>\n",
       "    </tr>\n",
       "  </thead>\n",
       "  <tbody>\n",
       "    <tr>\n",
       "      <th>0</th>\n",
       "      <td>2070</td>\n",
       "      <td>1107553</td>\n",
       "      <td>0.0</td>\n",
       "      <td>103</td>\n",
       "      <td>GROCERY</td>\n",
       "      <td>National</td>\n",
       "      <td>SOFT DRINKS</td>\n",
       "      <td>SFT DRNK SNGL SRV BTL CARB (EX</td>\n",
       "      <td>20 OZ</td>\n",
       "      <td>45-54</td>\n",
       "      <td>...</td>\n",
       "      <td>Unknown</td>\n",
       "      <td>Unknown</td>\n",
       "      <td>1</td>\n",
       "      <td>None/Unknown</td>\n",
       "      <td>3.562354</td>\n",
       "      <td>2.523977</td>\n",
       "      <td>9.035294</td>\n",
       "      <td>7342.223529</td>\n",
       "      <td>2.635412</td>\n",
       "      <td>6.094118</td>\n",
       "    </tr>\n",
       "    <tr>\n",
       "      <th>1</th>\n",
       "      <td>2070</td>\n",
       "      <td>1042942</td>\n",
       "      <td>0.0</td>\n",
       "      <td>69</td>\n",
       "      <td>GROCERY</td>\n",
       "      <td>Private</td>\n",
       "      <td>ICE CREAM/MILK/SHERBTS</td>\n",
       "      <td>PAILS</td>\n",
       "      <td>4 QT</td>\n",
       "      <td>45-54</td>\n",
       "      <td>...</td>\n",
       "      <td>Unknown</td>\n",
       "      <td>Unknown</td>\n",
       "      <td>1</td>\n",
       "      <td>None/Unknown</td>\n",
       "      <td>3.562354</td>\n",
       "      <td>2.523977</td>\n",
       "      <td>3.282353</td>\n",
       "      <td>7342.223529</td>\n",
       "      <td>2.635412</td>\n",
       "      <td>6.094118</td>\n",
       "    </tr>\n",
       "    <tr>\n",
       "      <th>2</th>\n",
       "      <td>2070</td>\n",
       "      <td>9526410</td>\n",
       "      <td>0.0</td>\n",
       "      <td>544</td>\n",
       "      <td>GROCERY</td>\n",
       "      <td>National</td>\n",
       "      <td>BAG SNACKS</td>\n",
       "      <td>POTATO CHIPS</td>\n",
       "      <td>11.5 OZ</td>\n",
       "      <td>45-54</td>\n",
       "      <td>...</td>\n",
       "      <td>Unknown</td>\n",
       "      <td>Unknown</td>\n",
       "      <td>1</td>\n",
       "      <td>None/Unknown</td>\n",
       "      <td>3.562354</td>\n",
       "      <td>2.523977</td>\n",
       "      <td>20.870588</td>\n",
       "      <td>7342.223529</td>\n",
       "      <td>2.635412</td>\n",
       "      <td>6.094118</td>\n",
       "    </tr>\n",
       "  </tbody>\n",
       "</table>\n",
       "<p>3 rows × 22 columns</p>\n",
       "</div>"
      ],
      "text/plain": [
       "   user_id  item_id  target  manufacturer department     brand  \\\n",
       "0     2070  1107553     0.0           103    GROCERY  National   \n",
       "1     2070  1042942     0.0            69    GROCERY   Private   \n",
       "2     2070  9526410     0.0           544    GROCERY  National   \n",
       "\n",
       "           commodity_desc              sub_commodity_desc  \\\n",
       "0             SOFT DRINKS  SFT DRNK SNGL SRV BTL CARB (EX   \n",
       "1  ICE CREAM/MILK/SHERBTS                           PAILS   \n",
       "2              BAG SNACKS                    POTATO CHIPS   \n",
       "\n",
       "  curr_size_of_product age_desc  ... homeowner_desc hh_comp_desc  \\\n",
       "0                20 OZ    45-54  ...        Unknown      Unknown   \n",
       "1                 4 QT    45-54  ...        Unknown      Unknown   \n",
       "2              11.5 OZ    45-54  ...        Unknown      Unknown   \n",
       "\n",
       "  household_size_desc kid_category_desc  avg_bill avg_cat_spendings  \\\n",
       "0                   1      None/Unknown  3.562354          2.523977   \n",
       "1                   1      None/Unknown  3.562354          2.523977   \n",
       "2                   1      None/Unknown  3.562354          2.523977   \n",
       "\n",
       "   avg_week_purchases  avg_week_purchases_cat  avg_cat_spendings_items  \\\n",
       "0            9.035294             7342.223529                 2.635412   \n",
       "1            3.282353             7342.223529                 2.635412   \n",
       "2           20.870588             7342.223529                 2.635412   \n",
       "\n",
       "   user_week_cat_purchase  \n",
       "0                6.094118  \n",
       "1                6.094118  \n",
       "2                6.094118  \n",
       "\n",
       "[3 rows x 22 columns]"
      ]
     },
     "execution_count": 48,
     "metadata": {},
     "output_type": "execute_result"
    }
   ],
   "source": [
    "df_ranker_train.head(3)"
   ]
  },
  {
   "cell_type": "code",
   "execution_count": null,
   "id": "d6423047-1841-4a9d-bef8-44ed0e28c191",
   "metadata": {
    "id": "d6423047-1841-4a9d-bef8-44ed0e28c191"
   },
   "outputs": [],
   "source": [
    "X_train = df_ranker_train.iloc[:, 2:].drop('target', axis=1)\n",
    "y_train = df_ranker_train['target']"
   ]
  },
  {
   "cell_type": "code",
   "execution_count": null,
   "id": "a26b2f10-711b-4fef-9026-e24452729cbf",
   "metadata": {
    "id": "a26b2f10-711b-4fef-9026-e24452729cbf",
    "outputId": "1c0f7c5e-e2ed-40af-d31f-01d98158ecab",
    "scrolled": true
   },
   "outputs": [
    {
     "data": {
      "text/plain": [
       "['manufacturer',\n",
       " 'department',\n",
       " 'brand',\n",
       " 'commodity_desc',\n",
       " 'sub_commodity_desc',\n",
       " 'curr_size_of_product',\n",
       " 'age_desc',\n",
       " 'marital_status_code',\n",
       " 'income_desc',\n",
       " 'homeowner_desc',\n",
       " 'hh_comp_desc',\n",
       " 'household_size_desc',\n",
       " 'kid_category_desc']"
      ]
     },
     "execution_count": 50,
     "metadata": {},
     "output_type": "execute_result"
    }
   ],
   "source": [
    "cat_feats = X_train.columns.tolist()[:-6]\n",
    "X_train[cat_feats] = X_train[cat_feats].astype('category')\n",
    "\n",
    "cat_feats"
   ]
  },
  {
   "cell_type": "code",
   "execution_count": null,
   "id": "159890ed-50cf-4428-9d70-f03f5dc5ee16",
   "metadata": {
    "id": "159890ed-50cf-4428-9d70-f03f5dc5ee16"
   },
   "outputs": [],
   "source": [
    "nan_cols = X_train.isna().sum().loc[X_train.isna().sum() > 0].index.tolist()\n",
    "\n",
    "for col in nan_cols:\n",
    "    X_train[f'{col}_nan'] = 0\n",
    "    X_train.loc[X_train[col].isna(), f'{col}_nan'] = 1\n",
    "    X_train[col].fillna(X_train[col].value_counts().index[0], inplace=True)"
   ]
  },
  {
   "cell_type": "code",
   "execution_count": null,
   "id": "7c757f7e-1824-4f7b-bc4b-af58cc070eef",
   "metadata": {
    "id": "7c757f7e-1824-4f7b-bc4b-af58cc070eef",
    "outputId": "fbb267ea-c56e-4800-de77-51e856a92c4d"
   },
   "outputs": [
    {
     "data": {
      "text/plain": [
       "0"
      ]
     },
     "execution_count": 53,
     "metadata": {},
     "output_type": "execute_result"
    }
   ],
   "source": [
    "X_train.isna().sum().sum()"
   ]
  },
  {
   "cell_type": "code",
   "execution_count": null,
   "id": "a5ba0103-950c-41c3-99ac-eacdc9b2c55c",
   "metadata": {
    "id": "a5ba0103-950c-41c3-99ac-eacdc9b2c55c"
   },
   "outputs": [],
   "source": [
    "encoder = OneHotEncoder(handle_unknown='ignore', sparse=False)\n",
    "X_train = X_train.drop(cat_feats, axis=1).join(pd.DataFrame(encoder.fit_transform(X_train[cat_feats]), \\\n",
    "                                                            columns=encoder.get_feature_names_out(cat_feats)))"
   ]
  },
  {
   "cell_type": "code",
   "execution_count": null,
   "id": "c45e08fc-946c-4814-ad60-b37f8c90b133",
   "metadata": {
    "id": "c45e08fc-946c-4814-ad60-b37f8c90b133"
   },
   "outputs": [],
   "source": [
    "from catboost import CatBoostClassifier\n",
    "\n",
    "model = CatBoostClassifier(iterations=200, silent=True,\n",
    "                           eta=0.1, task_type='GPU',\n",
    "                           auto_class_weights='Balanced',\n",
    "                           random_state=29\n",
    "            )\n",
    "model.fit(X_train, y_train)\n",
    "\n",
    "train_preds = model.predict_proba(X_train)"
   ]
  },
  {
   "cell_type": "code",
   "execution_count": null,
   "id": "7d32af72-9a3f-4562-84d8-3ccfcc6c3752",
   "metadata": {
    "id": "7d32af72-9a3f-4562-84d8-3ccfcc6c3752"
   },
   "outputs": [],
   "source": [
    "df_ranker_predict = df_ranker_train.copy()"
   ]
  },
  {
   "cell_type": "code",
   "execution_count": null,
   "id": "6650cc11-b6fa-4390-91ea-7badff88d772",
   "metadata": {
    "id": "6650cc11-b6fa-4390-91ea-7badff88d772"
   },
   "outputs": [],
   "source": [
    "df_ranker_predict['proba_item_purchase'] = train_preds[:, 1]"
   ]
  },
  {
   "cell_type": "code",
   "execution_count": null,
   "id": "d5b079b9-f69c-4ac0-82d8-18ca8fa858f6",
   "metadata": {
    "id": "d5b079b9-f69c-4ac0-82d8-18ca8fa858f6",
    "outputId": "d5c0b735-3c1a-444c-cf88-493fe3d3c10b"
   },
   "outputs": [
    {
     "data": {
      "text/plain": [
       "0    0.719326\n",
       "1    0.623822\n",
       "2    0.237627\n",
       "3    0.771141\n",
       "4    0.235181\n",
       "5    0.714822\n",
       "6    0.671295\n",
       "7    0.866600\n",
       "8    0.692142\n",
       "9    0.777229\n",
       "Name: proba_item_purchase, dtype: float64"
      ]
     },
     "execution_count": 58,
     "metadata": {},
     "output_type": "execute_result"
    }
   ],
   "source": [
    "df_ranker_predict['proba_item_purchase'][:10]"
   ]
  }
 ],
 "metadata": {
  "colab": {
   "provenance": []
  },
  "kernelspec": {
   "display_name": "Python 3 (ipykernel)",
   "language": "python",
   "name": "python3"
  },
  "language_info": {
   "codemirror_mode": {
    "name": "ipython",
    "version": 3
   },
   "file_extension": ".py",
   "mimetype": "text/x-python",
   "name": "python",
   "nbconvert_exporter": "python",
   "pygments_lexer": "ipython3",
   "version": "3.9.16"
  }
 },
 "nbformat": 4,
 "nbformat_minor": 5
}
